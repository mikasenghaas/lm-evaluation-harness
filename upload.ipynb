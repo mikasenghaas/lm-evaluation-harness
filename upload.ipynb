{
 "cells": [
  {
   "cell_type": "code",
   "execution_count": 14,
   "metadata": {},
   "outputs": [],
   "source": [
    "import json\n",
    "import datasets\n",
    "import pandas as pd\n",
    "from datasets import Dataset"
   ]
  },
  {
   "cell_type": "code",
   "execution_count": 15,
   "metadata": {},
   "outputs": [],
   "source": [
    "def read_jsonl(path, mode=\"r\", **kwargs):\n",
    "    ls = []\n",
    "    with open(path, mode, **kwargs) as f:\n",
    "        for line in f:\n",
    "            ls.append(json.loads(line))\n",
    "    return ls"
   ]
  },
  {
   "cell_type": "code",
   "execution_count": 23,
   "metadata": {},
   "outputs": [
    {
     "data": {
      "text/html": [
       "<div>\n",
       "<style scoped>\n",
       "    .dataframe tbody tr th:only-of-type {\n",
       "        vertical-align: middle;\n",
       "    }\n",
       "\n",
       "    .dataframe tbody tr th {\n",
       "        vertical-align: top;\n",
       "    }\n",
       "\n",
       "    .dataframe thead th {\n",
       "        text-align: right;\n",
       "    }\n",
       "</style>\n",
       "<table border=\"1\" class=\"dataframe\">\n",
       "  <thead>\n",
       "    <tr style=\"text-align: right;\">\n",
       "      <th></th>\n",
       "      <th>subject</th>\n",
       "      <th>question</th>\n",
       "      <th>answer</th>\n",
       "    </tr>\n",
       "  </thead>\n",
       "  <tbody>\n",
       "    <tr>\n",
       "      <th>0</th>\n",
       "      <td>machine_learning</td>\n",
       "      <td>Question: Statement 1| Linear regression estim...</td>\n",
       "      <td>D</td>\n",
       "    </tr>\n",
       "    <tr>\n",
       "      <th>1</th>\n",
       "      <td>machine_learning</td>\n",
       "      <td>Question: Statement 1| RoBERTa pretrains on a ...</td>\n",
       "      <td>C</td>\n",
       "    </tr>\n",
       "    <tr>\n",
       "      <th>2</th>\n",
       "      <td>machine_learning</td>\n",
       "      <td>Question: Statement 1| Support vector machines...</td>\n",
       "      <td>B</td>\n",
       "    </tr>\n",
       "    <tr>\n",
       "      <th>3</th>\n",
       "      <td>machine_learning</td>\n",
       "      <td>Question: A machine learning problem involves ...</td>\n",
       "      <td>D</td>\n",
       "    </tr>\n",
       "    <tr>\n",
       "      <th>4</th>\n",
       "      <td>machine_learning</td>\n",
       "      <td>Question: As of 2020, which architecture is be...</td>\n",
       "      <td>A</td>\n",
       "    </tr>\n",
       "    <tr>\n",
       "      <th>...</th>\n",
       "      <td>...</td>\n",
       "      <td>...</td>\n",
       "      <td>...</td>\n",
       "    </tr>\n",
       "    <tr>\n",
       "      <th>351</th>\n",
       "      <td>college_chemistry</td>\n",
       "      <td>Question: Of the following atoms, which has th...</td>\n",
       "      <td>D</td>\n",
       "    </tr>\n",
       "    <tr>\n",
       "      <th>352</th>\n",
       "      <td>college_chemistry</td>\n",
       "      <td>Question: Of the following ions, which has the...</td>\n",
       "      <td>C</td>\n",
       "    </tr>\n",
       "    <tr>\n",
       "      <th>353</th>\n",
       "      <td>college_chemistry</td>\n",
       "      <td>Question: What is the NMR frequency of 31P in ...</td>\n",
       "      <td>C</td>\n",
       "    </tr>\n",
       "    <tr>\n",
       "      <th>354</th>\n",
       "      <td>college_chemistry</td>\n",
       "      <td>Question: Predict the number of lines in the E...</td>\n",
       "      <td>B</td>\n",
       "    </tr>\n",
       "    <tr>\n",
       "      <th>355</th>\n",
       "      <td>college_chemistry</td>\n",
       "      <td>Question: Of the following compounds, which is...</td>\n",
       "      <td>D</td>\n",
       "    </tr>\n",
       "  </tbody>\n",
       "</table>\n",
       "<p>356 rows × 3 columns</p>\n",
       "</div>"
      ],
      "text/plain": [
       "               subject                                           question  \\\n",
       "0     machine_learning  Question: Statement 1| Linear regression estim...   \n",
       "1     machine_learning  Question: Statement 1| RoBERTa pretrains on a ...   \n",
       "2     machine_learning  Question: Statement 1| Support vector machines...   \n",
       "3     machine_learning  Question: A machine learning problem involves ...   \n",
       "4     machine_learning  Question: As of 2020, which architecture is be...   \n",
       "..                 ...                                                ...   \n",
       "351  college_chemistry  Question: Of the following atoms, which has th...   \n",
       "352  college_chemistry  Question: Of the following ions, which has the...   \n",
       "353  college_chemistry  Question: What is the NMR frequency of 31P in ...   \n",
       "354  college_chemistry  Question: Predict the number of lines in the E...   \n",
       "355  college_chemistry  Question: Of the following compounds, which is...   \n",
       "\n",
       "    answer  \n",
       "0        D  \n",
       "1        C  \n",
       "2        B  \n",
       "3        D  \n",
       "4        A  \n",
       "..     ...  \n",
       "351      D  \n",
       "352      C  \n",
       "353      C  \n",
       "354      B  \n",
       "355      D  \n",
       "\n",
       "[356 rows x 3 columns]"
      ]
     },
     "execution_count": 23,
     "metadata": {},
     "output_type": "execute_result"
    }
   ],
   "source": [
    "# Read JSON\n",
    "data = pd.DataFrame(read_jsonl(\"mcqa_example.jsonl\"))\n",
    "data"
   ]
  },
  {
   "cell_type": "code",
   "execution_count": 24,
   "metadata": {},
   "outputs": [
    {
     "data": {
      "text/plain": [
       "Dataset({\n",
       "    features: ['subject', 'question', 'answer'],\n",
       "    num_rows: 356\n",
       "})"
      ]
     },
     "execution_count": 24,
     "metadata": {},
     "output_type": "execute_result"
    }
   ],
   "source": [
    "# Put into HF Dataset\n",
    "hf_data = Dataset.from_pandas(data)\n",
    "hf_data"
   ]
  },
  {
   "cell_type": "code",
   "execution_count": 27,
   "metadata": {},
   "outputs": [
    {
     "data": {
      "text/plain": [
       "['mikasenghaas', '\\x1b[1morgs: \\x1b[0m cs552-mlp']"
      ]
     },
     "execution_count": 27,
     "metadata": {},
     "output_type": "execute_result"
    }
   ],
   "source": [
    "!!huggingface-cli whoami"
   ]
  },
  {
   "cell_type": "code",
   "execution_count": 28,
   "metadata": {},
   "outputs": [
    {
     "name": "stderr",
     "output_type": "stream",
     "text": [
      "Creating parquet from Arrow format: 100%|██████████| 1/1 [00:00<00:00, 722.66ba/s]\n",
      "Uploading the dataset shards: 100%|██████████| 1/1 [00:01<00:00,  1.11s/it]\n"
     ]
    },
    {
     "data": {
      "text/plain": [
       "CommitInfo(commit_url='https://huggingface.co/datasets/cs552-mlp/epfl-mcq/commit/47363dfb0591d60bb2997ae3e74f591d383a1635', commit_message='Upload dataset', commit_description='', oid='47363dfb0591d60bb2997ae3e74f591d383a1635', pr_url=None, pr_revision=None, pr_num=None)"
      ]
     },
     "execution_count": 28,
     "metadata": {},
     "output_type": "execute_result"
    }
   ],
   "source": [
    "# Upload dataset to HF\n",
    "hf_data.push_to_hub(\"cs552-mlp/epfl-mcq\", split=\"train\")"
   ]
  },
  {
   "cell_type": "code",
   "execution_count": 29,
   "metadata": {},
   "outputs": [
    {
     "data": {
      "text/plain": [
       "DatasetDict({\n",
       "    train: Dataset({\n",
       "        features: ['subject', 'question', 'answer'],\n",
       "        num_rows: 356\n",
       "    })\n",
       "})"
      ]
     },
     "execution_count": 29,
     "metadata": {},
     "output_type": "execute_result"
    }
   ],
   "source": [
    "datasets.load_dataset(\"cs552-mlp/epfl-mcq\")"
   ]
  }
 ],
 "metadata": {
  "kernelspec": {
   "display_name": "lm-evaluation-harness",
   "language": "python",
   "name": "python3"
  },
  "language_info": {
   "codemirror_mode": {
    "name": "ipython",
    "version": 3
   },
   "file_extension": ".py",
   "mimetype": "text/x-python",
   "name": "python",
   "nbconvert_exporter": "python",
   "pygments_lexer": "ipython3",
   "version": "3.10.13"
  }
 },
 "nbformat": 4,
 "nbformat_minor": 2
}
